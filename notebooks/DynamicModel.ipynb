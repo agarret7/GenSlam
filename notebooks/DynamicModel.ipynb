{
 "cells": [
  {
   "cell_type": "code",
   "execution_count": 1,
   "metadata": {},
   "outputs": [],
   "source": [
    "using Revise\n",
    "using GenSlam\n",
    "import Images: RGBA, N0f8\n",
    "import FileIO: save\n",
    "import PyPlot\n",
    "import Random\n",
    "import Gen\n",
    "import GenSceneGraphs\n",
    "S = GenSceneGraphs\n",
    "Random.seed!(0);"
   ]
  },
  {
   "cell_type": "code",
   "execution_count": 2,
   "metadata": {},
   "outputs": [],
   "source": [
    "# create scene\n",
    "num_objects = 3\n",
    "num_time_steps = 20\n",
    "gt_gs, agent_views = sample_dynamic_scene(num_objects, num_time_steps);"
   ]
  },
  {
   "cell_type": "code",
   "execution_count": 4,
   "metadata": {},
   "outputs": [
    {
     "name": "stdout",
     "output_type": "stream",
     "text": [
      "Filtering 1\n",
      "Filtering 2\n",
      "Filtering 3\n",
      "Filtering 4\n",
      "Filtering 5\n",
      "Filtering 6\n",
      "Filtering 7\n",
      "Filtering 8\n",
      "Filtering 9\n",
      "Filtering 10\n",
      "Filtering 11\n",
      "Filtering 12\n",
      "Filtering 13\n",
      "Filtering 14\n",
      "Filtering 15\n",
      "Filtering 16\n",
      "Filtering 17\n",
      "Filtering 18\n",
      "Filtering 19\n",
      "Filtering 20\n"
     ]
    }
   ],
   "source": [
    "hypers = Hypers(\n",
    "    num_objects = 3,\n",
    "    scene_pose_bounds = (xmin=-1,xmax=1,ymin=-1,ymax=1,zmin=-1,zmax=1),\n",
    "    obs_pos_stdev = 0.01,\n",
    "    obs_rot_conc = 500.,\n",
    "    pos_drift_length = 0.1,\n",
    "    rot_drift_conc = 500.\n",
    ")\n",
    "obs_gs = gt_g_to_obs_g.(gt_gs)\n",
    "gs, weight = do_smc(model, obs_gs, hypers);"
   ]
  },
  {
   "cell_type": "code",
   "execution_count": 5,
   "metadata": {},
   "outputs": [
    {
     "name": "stderr",
     "output_type": "stream",
     "text": [
      "┌ Info: Creating a headless physics client to use as default\n",
      "└ @ GenSceneGraphs._PyBulletUtils /julia_projects/MyProject/deps/GenSceneGraphs.jl/src/pybullet_utils.jl:113\n"
     ]
    },
    {
     "data": {
      "text/html": [
       "<video autoplay controls><source src=\"data:video/x-m4v;base64,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\" type=\"video/mp4\"></video>"
      ]
     },
     "metadata": {},
     "output_type": "display_data"
    },
    {
     "data": {
      "text/html": [
       "<video autoplay controls><source src=\"data:video/x-m4v;base64,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\" type=\"video/mp4\"></video>"
      ]
     },
     "metadata": {},
     "output_type": "display_data"
    },
    {
     "name": "stdout",
     "output_type": "stream",
     "text": [
      "pybullet build time: Aug 11 2020 06:36:49\n"
     ]
    },
    {
     "name": "stderr",
     "output_type": "stream",
     "text": [
      "ffmpeg version 3.4.8-0ubuntu0.2 Copyright (c) 2000-2020 the FFmpeg developers\n",
      "  built with gcc 7 (Ubuntu 7.5.0-3ubuntu1~18.04)\n",
      "  configuration: --prefix=/usr --extra-version=0ubuntu0.2 --toolchain=hardened --libdir=/usr/lib/x86_64-linux-gnu --incdir=/usr/include/x86_64-linux-gnu --enable-gpl --disable-stripping --enable-avresample --enable-avisynth --enable-gnutls --enable-ladspa --enable-libass --enable-libbluray --enable-libbs2b --enable-libcaca --enable-libcdio --enable-libflite --enable-libfontconfig --enable-libfreetype --enable-libfribidi --enable-libgme --enable-libgsm --enable-libmp3lame --enable-libmysofa --enable-libopenjpeg --enable-libopenmpt --enable-libopus --enable-libpulse --enable-librubberband --enable-librsvg --enable-libshine --enable-libsnappy --enable-libsoxr --enable-libspeex --enable-libssh --enable-libtheora --enable-libtwolame --enable-libvorbis --enable-libvpx --enable-libwavpack --enable-libwebp --enable-libx265 --enable-libxml2 --enable-libxvid --enable-libzmq --enable-libzvbi --enable-omx --enable-openal --enable-opengl --enable-sdl2 --enable-libdc1394 --enable-libdrm --enable-libiec61883 --enable-chromaprint --enable-frei0r --enable-libopencv --enable-libx264 --enable-shared\n",
      "  libavutil      55. 78.100 / 55. 78.100\n",
      "  libavcodec     57.107.100 / 57.107.100\n",
      "  libavformat    57. 83.100 / 57. 83.100\n",
      "  libavdevice    57. 10.100 / 57. 10.100\n",
      "  libavfilter     6.107.100 /  6.107.100\n",
      "  libavresample   3.  7.  0 /  3.  7.  0\n",
      "  libswscale      4.  8.100 /  4.  8.100\n",
      "  libswresample   2.  9.100 /  2.  9.100\n",
      "  libpostproc    54.  7.100 / 54.  7.100\n",
      "Input #0, image2, from '/tmp/jl_MbJmRM/%04d.png':\n",
      "  Duration: 00:00:04.75, start: 0.000000, bitrate: N/A\n",
      "    Stream #0:0: Video: png, rgba(pc), 640x480, 4 fps, 4 tbr, 4 tbn, 4 tbc\n",
      "Stream mapping:\n",
      "  Stream #0:0 -> #0:0 (png (native) -> h264 (libx264))\n",
      "Press [q] to stop, [?] for help\n",
      "[libx264 @ 0x55d995879d00] using cpu capabilities: MMX2 SSE2Fast SSSE3 SSE4.2 AVX FMA3 BMI2 AVX2\n",
      "[libx264 @ 0x55d995879d00] profile High, level 2.2\n",
      "[libx264 @ 0x55d995879d00] 264 - core 152 r2854 e9a5903 - H.264/MPEG-4 AVC codec - Copyleft 2003-2017 - http://www.videolan.org/x264.html - options: cabac=1 ref=3 deblock=1:0:0 analyse=0x3:0x113 me=hex subme=7 psy=1 psy_rd=1.00:0.00 mixed_ref=1 me_range=16 chroma_me=1 trellis=1 8x8dct=1 cqm=0 deadzone=21,11 fast_pskip=1 chroma_qp_offset=-2 threads=15 lookahead_threads=2 sliced_threads=0 nr=0 decimate=1 interlaced=0 bluray_compat=0 constrained_intra=0 bframes=3 b_pyramid=2 b_adapt=1 b_bias=0 direct=1 weightb=1 open_gop=0 weightp=2 keyint=250 keyint_min=4 scenecut=40 intra_refresh=0 rc_lookahead=40 rc=crf mbtree=1 crf=23.0 qcomp=0.60 qpmin=0 qpmax=69 qpstep=4 ip_ratio=1.40 aq=1:1.00\n",
      "Output #0, mp4, to '/tmp/jl_W9237X/video.mp4':\n",
      "  Metadata:\n",
      "    encoder         : Lavf57.83.100\n",
      "    Stream #0:0: Video: h264 (libx264) (avc1 / 0x31637661), yuv420p, 640x480, q=-1--1, 4 fps, 16384 tbn, 4 tbc\n",
      "    Metadata:\n",
      "      encoder         : Lavc57.107.100 libx264\n",
      "    Side data:\n",
      "      cpb: bitrate max/min/avg: 0/0/0 buffer size: 0 vbv_delay: -1\n",
      "frame=   19 fps=0.0 q=-1.0 Lsize=       5kB time=00:00:04.00 bitrate=   9.4kbits/s speed=66.3x    \n",
      "video:4kB audio:0kB subtitle:0kB other streams:0kB global headers:0kB muxing overhead: 25.966703%\n",
      "[libx264 @ 0x55d995879d00] frame I:1     Avg QP: 3.15  size:   454\n",
      "[libx264 @ 0x55d995879d00] frame P:16    Avg QP:11.99  size:   145\n",
      "[libx264 @ 0x55d995879d00] frame B:2     Avg QP:15.77  size:   131\n",
      "[libx264 @ 0x55d995879d00] consecutive B-frames: 78.9% 21.1%  0.0%  0.0%\n",
      "[libx264 @ 0x55d995879d00] mb I  I16..4: 99.0%  0.0%  1.0%\n",
      "[libx264 @ 0x55d995879d00] mb P  I16..4:  0.1%  0.1%  0.0%  P16..4:  0.7%  0.2%  0.1%  0.0%  0.0%    skip:98.8%\n",
      "[libx264 @ 0x55d995879d00] mb B  I16..4:  0.0%  0.0%  0.0%  B16..8:  0.7%  0.1%  0.0%  direct: 0.0%  skip:99.1%  L0:43.8% L1:46.2% BI:10.0%\n",
      "[libx264 @ 0x55d995879d00] 8x8 transform intra:1.5% inter:0.0%\n",
      "[libx264 @ 0x55d995879d00] coded y,uvDC,uvAC intra: 0.7% 0.0% 0.0% inter: 0.1% 0.0% 0.0%\n",
      "[libx264 @ 0x55d995879d00] i16 v,h,dc,p: 96%  0%  3%  0%\n",
      "[libx264 @ 0x55d995879d00] i8 v,h,dc,ddl,ddr,vr,hd,vl,hu:  0%  0% 100%  0%  0%  0%  0%  0%  0%\n",
      "[libx264 @ 0x55d995879d00] i4 v,h,dc,ddl,ddr,vr,hd,vl,hu: 17% 20% 50%  2%  3%  2%  2%  2%  2%\n",
      "[libx264 @ 0x55d995879d00] i8c dc,h,v,p: 100%  0%  0%  0%\n",
      "[libx264 @ 0x55d995879d00] Weighted P-Frames: Y:0.0% UV:0.0%\n",
      "[libx264 @ 0x55d995879d00] ref P L0: 82.7%  0.0% 11.9%  5.4%\n",
      "[libx264 @ 0x55d995879d00] ref B L0: 74.4% 25.6%\n",
      "[libx264 @ 0x55d995879d00] kb/s:5.11\n",
      "ffmpeg version 3.4.8-0ubuntu0.2 Copyright (c) 2000-2020 the FFmpeg developers\n",
      "  built with gcc 7 (Ubuntu 7.5.0-3ubuntu1~18.04)\n",
      "  configuration: --prefix=/usr --extra-version=0ubuntu0.2 --toolchain=hardened --libdir=/usr/lib/x86_64-linux-gnu --incdir=/usr/include/x86_64-linux-gnu --enable-gpl --disable-stripping --enable-avresample --enable-avisynth --enable-gnutls --enable-ladspa --enable-libass --enable-libbluray --enable-libbs2b --enable-libcaca --enable-libcdio --enable-libflite --enable-libfontconfig --enable-libfreetype --enable-libfribidi --enable-libgme --enable-libgsm --enable-libmp3lame --enable-libmysofa --enable-libopenjpeg --enable-libopenmpt --enable-libopus --enable-libpulse --enable-librubberband --enable-librsvg --enable-libshine --enable-libsnappy --enable-libsoxr --enable-libspeex --enable-libssh --enable-libtheora --enable-libtwolame --enable-libvorbis --enable-libvpx --enable-libwavpack --enable-libwebp --enable-libx265 --enable-libxml2 --enable-libxvid --enable-libzmq --enable-libzvbi --enable-omx --enable-openal --enable-opengl --enable-sdl2 --enable-libdc1394 --enable-libdrm --enable-libiec61883 --enable-chromaprint --enable-frei0r --enable-libopencv --enable-libx264 --enable-shared\n",
      "  libavutil      55. 78.100 / 55. 78.100\n",
      "  libavcodec     57.107.100 / 57.107.100\n",
      "  libavformat    57. 83.100 / 57. 83.100\n",
      "  libavdevice    57. 10.100 / 57. 10.100\n",
      "  libavfilter     6.107.100 /  6.107.100\n",
      "  libavresample   3.  7.  0 /  3.  7.  0\n",
      "  libswscale      4.  8.100 /  4.  8.100\n",
      "  libswresample   2.  9.100 /  2.  9.100\n",
      "  libpostproc    54.  7.100 / 54.  7.100\n",
      "Input #0, image2, from '/tmp/jl_Eh46ZK/%04d.png':\n",
      "  Duration: 00:00:04.75, start: 0.000000, bitrate: N/A\n",
      "    Stream #0:0: Video: png, rgba(pc), 640x480, 4 fps, 4 tbr, 4 tbn, 4 tbc\n",
      "Stream mapping:\n",
      "  Stream #0:0 -> #0:0 (png (native) -> h264 (libx264))\n",
      "Press [q] to stop, [?] for help\n",
      "[libx264 @ 0x560c4747d2a0] using cpu capabilities: MMX2 SSE2Fast SSSE3 SSE4.2 AVX FMA3 BMI2 AVX2\n",
      "[libx264 @ 0x560c4747d2a0] profile High, level 2.2\n",
      "[libx264 @ 0x560c4747d2a0] 264 - core 152 r2854 e9a5903 - H.264/MPEG-4 AVC codec - Copyleft 2003-2017 - http://www.videolan.org/x264.html - options: cabac=1 ref=3 deblock=1:0:0 analyse=0x3:0x113 me=hex subme=7 psy=1 psy_rd=1.00:0.00 mixed_ref=1 me_range=16 chroma_me=1 trellis=1 8x8dct=1 cqm=0 deadzone=21,11 fast_pskip=1 chroma_qp_offset=-2 threads=15 lookahead_threads=2 sliced_threads=0 nr=0 decimate=1 interlaced=0 bluray_compat=0 constrained_intra=0 bframes=3 b_pyramid=2 b_adapt=1 b_bias=0 direct=1 weightb=1 open_gop=0 weightp=2 keyint=250 keyint_min=4 scenecut=40 intra_refresh=0 rc_lookahead=40 rc=crf mbtree=1 crf=23.0 qcomp=0.60 qpmin=0 qpmax=69 qpstep=4 ip_ratio=1.40 aq=1:1.00\n",
      "Output #0, mp4, to '/tmp/jl_4TwJVL/video.mp4':\n",
      "  Metadata:\n",
      "    encoder         : Lavf57.83.100\n",
      "    Stream #0:0: Video: h264 (libx264) (avc1 / 0x31637661), yuv420p, 640x480, q=-1--1, 4 fps, 16384 tbn, 4 tbc\n",
      "    Metadata:\n",
      "      encoder         : Lavc57.107.100 libx264\n",
      "    Side data:\n",
      "      cpb: bitrate max/min/avg: 0/0/0 buffer size: 0 vbv_delay: -1\n",
      "frame=   19 fps=0.0 q=-1.0 Lsize=       5kB time=00:00:04.00 bitrate=   9.6kbits/s speed=70.6x    \n",
      "video:4kB audio:0kB subtitle:0kB other streams:0kB global headers:0kB muxing overhead: 26.717558%\n",
      "[libx264 @ 0x560c4747d2a0] frame I:1     Avg QP: 3.98  size:   520\n",
      "[libx264 @ 0x560c4747d2a0] frame P:14    Avg QP:10.87  size:   153\n",
      "[libx264 @ 0x560c4747d2a0] frame B:4     Avg QP:14.30  size:   112\n",
      "[libx264 @ 0x560c4747d2a0] consecutive B-frames: 57.9% 42.1%  0.0%  0.0%\n",
      "[libx264 @ 0x560c4747d2a0] mb I  I16..4: 98.8%  0.0%  1.2%\n",
      "[libx264 @ 0x560c4747d2a0] mb P  I16..4:  0.2%  0.1%  0.0%  P16..4:  0.7%  0.3%  0.0%  0.0%  0.0%    skip:98.8%\n",
      "[libx264 @ 0x560c4747d2a0] mb B  I16..4:  0.0%  0.0%  0.0%  B16..8:  0.6%  0.1%  0.1%  direct: 0.0%  skip:99.2%  L0:43.2% L1:54.8% BI: 1.9%\n",
      "[libx264 @ 0x560c4747d2a0] 8x8 transform intra:0.8% inter:2.7%\n",
      "[libx264 @ 0x560c4747d2a0] coded y,uvDC,uvAC intra: 0.8% 0.0% 0.0% inter: 0.1% 0.0% 0.0%\n",
      "[libx264 @ 0x560c4747d2a0] i16 v,h,dc,p: 96%  1%  3%  0%\n",
      "[libx264 @ 0x560c4747d2a0] i8 v,h,dc,ddl,ddr,vr,hd,vl,hu:  0%  0% 100%  0%  0%  0%  0%  0%  0%\n",
      "[libx264 @ 0x560c4747d2a0] i4 v,h,dc,ddl,ddr,vr,hd,vl,hu: 27% 11% 46%  5%  2%  2%  2%  3%  3%\n",
      "[libx264 @ 0x560c4747d2a0] i8c dc,h,v,p: 100%  0%  0%  0%\n",
      "[libx264 @ 0x560c4747d2a0] Weighted P-Frames: Y:0.0% UV:0.0%\n",
      "[libx264 @ 0x560c4747d2a0] ref P L0: 79.1%  2.5% 13.3%  5.1%\n",
      "[libx264 @ 0x560c4747d2a0] ref B L0: 87.3% 12.7%\n",
      "[libx264 @ 0x560c4747d2a0] kb/s:5.24\n"
     ]
    }
   ],
   "source": [
    "# visualize top-down\n",
    "frames = [S.renderScene(g; width=640, height=480, view=TOPDOWN_VIEW)[1]\n",
    "          for (g, agent_view) in zip(gt_gs, agent_views)]\n",
    "S.displayVideo(frames)\n",
    "# visualize top-down\n",
    "frames = [S.renderScene(g; width=640, height=480, view=TOPDOWN_VIEW)[1]\n",
    "          for (g, agent_view) in zip(gs, agent_views)]\n",
    "S.displayVideo(frames)"
   ]
  }
 ],
 "metadata": {
  "kernelspec": {
   "display_name": "Julia 1.5.1",
   "language": "julia",
   "name": "julia-1.5"
  },
  "language_info": {
   "file_extension": ".jl",
   "mimetype": "application/julia",
   "name": "julia",
   "version": "1.5.1"
  }
 },
 "nbformat": 4,
 "nbformat_minor": 4
}
